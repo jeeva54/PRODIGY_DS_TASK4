{
 "cells": [
  {
   "cell_type": "code",
   "execution_count": 1,
   "id": "5ef0b8ad-74fd-4e38-82ae-adb8e1f35701",
   "metadata": {},
   "outputs": [],
   "source": [
    "import pandas as pd\n",
    "import matplotlib.pyplot as plt\n",
    "import numpy as np"
   ]
  },
  {
   "cell_type": "code",
   "execution_count": 2,
   "id": "dcdbb014-4d08-4a4d-8faa-73873e3e940e",
   "metadata": {},
   "outputs": [],
   "source": [
    "twitts_train = pd.read_csv(\"twitter_training.csv\")\n",
    "twitts_valid = pd.read_csv(\"twitter_validation.csv\")"
   ]
  },
  {
   "cell_type": "code",
   "execution_count": 3,
   "id": "37b7493f-276a-4047-8905-adb8a461af22",
   "metadata": {},
   "outputs": [
    {
     "data": {
      "text/html": [
       "<div>\n",
       "<style scoped>\n",
       "    .dataframe tbody tr th:only-of-type {\n",
       "        vertical-align: middle;\n",
       "    }\n",
       "\n",
       "    .dataframe tbody tr th {\n",
       "        vertical-align: top;\n",
       "    }\n",
       "\n",
       "    .dataframe thead th {\n",
       "        text-align: right;\n",
       "    }\n",
       "</style>\n",
       "<table border=\"1\" class=\"dataframe\">\n",
       "  <thead>\n",
       "    <tr style=\"text-align: right;\">\n",
       "      <th></th>\n",
       "      <th>TweetID</th>\n",
       "      <th>Entity</th>\n",
       "      <th>Sentiment</th>\n",
       "      <th>Tweet_Content</th>\n",
       "    </tr>\n",
       "  </thead>\n",
       "  <tbody>\n",
       "    <tr>\n",
       "      <th>0</th>\n",
       "      <td>2401</td>\n",
       "      <td>Borderlands</td>\n",
       "      <td>Positive</td>\n",
       "      <td>I am coming to the borders and I will kill you...</td>\n",
       "    </tr>\n",
       "    <tr>\n",
       "      <th>1</th>\n",
       "      <td>2401</td>\n",
       "      <td>Borderlands</td>\n",
       "      <td>Positive</td>\n",
       "      <td>im getting on borderlands and i will kill you ...</td>\n",
       "    </tr>\n",
       "    <tr>\n",
       "      <th>2</th>\n",
       "      <td>2401</td>\n",
       "      <td>Borderlands</td>\n",
       "      <td>Positive</td>\n",
       "      <td>im coming on borderlands and i will murder you...</td>\n",
       "    </tr>\n",
       "    <tr>\n",
       "      <th>3</th>\n",
       "      <td>2401</td>\n",
       "      <td>Borderlands</td>\n",
       "      <td>Positive</td>\n",
       "      <td>im getting on borderlands 2 and i will murder ...</td>\n",
       "    </tr>\n",
       "    <tr>\n",
       "      <th>4</th>\n",
       "      <td>2401</td>\n",
       "      <td>Borderlands</td>\n",
       "      <td>Positive</td>\n",
       "      <td>im getting into borderlands and i can murder y...</td>\n",
       "    </tr>\n",
       "  </tbody>\n",
       "</table>\n",
       "</div>"
      ],
      "text/plain": [
       "   TweetID       Entity Sentiment  \\\n",
       "0     2401  Borderlands  Positive   \n",
       "1     2401  Borderlands  Positive   \n",
       "2     2401  Borderlands  Positive   \n",
       "3     2401  Borderlands  Positive   \n",
       "4     2401  Borderlands  Positive   \n",
       "\n",
       "                                       Tweet_Content  \n",
       "0  I am coming to the borders and I will kill you...  \n",
       "1  im getting on borderlands and i will kill you ...  \n",
       "2  im coming on borderlands and i will murder you...  \n",
       "3  im getting on borderlands 2 and i will murder ...  \n",
       "4  im getting into borderlands and i can murder y...  "
      ]
     },
     "execution_count": 3,
     "metadata": {},
     "output_type": "execute_result"
    }
   ],
   "source": [
    "# Naming each column\n",
    "column_name=['TweetID','Entity','Sentiment','Tweet_Content']\n",
    "twitts_train.columns=column_name\n",
    "twitts_valid.columns=column_name\n",
    "# Combining 2 dataframes to 1 dataframe\n",
    "twitts=pd.concat([twitts_train,twitts_valid],ignore_index=False)\n",
    "twitts.head()"
   ]
  },
  {
   "cell_type": "code",
   "execution_count": 4,
   "id": "f5f8fe09-9504-4e4b-bfa9-205737d10527",
   "metadata": {},
   "outputs": [
    {
     "data": {
      "text/plain": [
       "['TweetID', 'Entity', 'Sentiment', 'Tweet_Content']"
      ]
     },
     "execution_count": 4,
     "metadata": {},
     "output_type": "execute_result"
    }
   ],
   "source": [
    "twitts.columns.tolist()"
   ]
  },
  {
   "cell_type": "code",
   "execution_count": 5,
   "id": "64cb3578-3355-4bf4-b530-90b6a258ee1d",
   "metadata": {},
   "outputs": [
    {
     "name": "stdout",
     "output_type": "stream",
     "text": [
      "<class 'pandas.core.frame.DataFrame'>\n",
      "Index: 75680 entries, 0 to 998\n",
      "Data columns (total 4 columns):\n",
      " #   Column         Non-Null Count  Dtype \n",
      "---  ------         --------------  ----- \n",
      " 0   TweetID        75680 non-null  int64 \n",
      " 1   Entity         75680 non-null  object\n",
      " 2   Sentiment      75680 non-null  object\n",
      " 3   Tweet_Content  74994 non-null  object\n",
      "dtypes: int64(1), object(3)\n",
      "memory usage: 2.9+ MB\n"
     ]
    }
   ],
   "source": [
    "twitts.info()"
   ]
  },
  {
   "cell_type": "code",
   "execution_count": 6,
   "id": "762f6246-9d7b-4621-901e-83d31fb33433",
   "metadata": {},
   "outputs": [
    {
     "data": {
      "text/plain": [
       "TweetID            0\n",
       "Entity             0\n",
       "Sentiment          0\n",
       "Tweet_Content    686\n",
       "dtype: int64"
      ]
     },
     "execution_count": 6,
     "metadata": {},
     "output_type": "execute_result"
    }
   ],
   "source": [
    "# Data Cleaning\n",
    "twitts.isnull().sum()"
   ]
  },
  {
   "cell_type": "code",
   "execution_count": 7,
   "id": "a9d6e65a-bcb1-4f5b-8b3e-e42e829a666a",
   "metadata": {},
   "outputs": [
    {
     "data": {
      "text/plain": [
       "3216"
      ]
     },
     "execution_count": 7,
     "metadata": {},
     "output_type": "execute_result"
    }
   ],
   "source": [
    "twitts.duplicated().sum()"
   ]
  },
  {
   "cell_type": "code",
   "execution_count": 8,
   "id": "9cd2b9ae-c6c1-400f-86e2-05cbcc486a3e",
   "metadata": {},
   "outputs": [
    {
     "name": "stdout",
     "output_type": "stream",
     "text": [
      "TweetID          0\n",
      "Entity           0\n",
      "Sentiment        0\n",
      "Tweet_Content    0\n",
      "dtype: int64\n",
      "Duplicate Values: 0\n"
     ]
    }
   ],
   "source": [
    "twitts.dropna(inplace=True)\n",
    "twitts.drop_duplicates(inplace=True)\n",
    "print(twitts.isnull().sum())\n",
    "print(\"Duplicate Values:\",twitts.duplicated().sum())"
   ]
  },
  {
   "cell_type": "code",
   "execution_count": null,
   "id": "726ebee8-6552-4076-8ee4-b0c572f777ae",
   "metadata": {},
   "outputs": [],
   "source": [
    "# Dropping Irrelevant columns:\n",
    "twitts.drop(columns=['TweetID','Tweet_Content'],inplace=True)\n",
    "twitts.head()"
   ]
  }
 ],
 "metadata": {
  "kernelspec": {
   "display_name": "Python 3 (ipykernel)",
   "language": "python",
   "name": "python3"
  },
  "language_info": {
   "codemirror_mode": {
    "name": "ipython",
    "version": 3
   },
   "file_extension": ".py",
   "mimetype": "text/x-python",
   "name": "python",
   "nbconvert_exporter": "python",
   "pygments_lexer": "ipython3",
   "version": "3.12.4"
  }
 },
 "nbformat": 4,
 "nbformat_minor": 5
}
